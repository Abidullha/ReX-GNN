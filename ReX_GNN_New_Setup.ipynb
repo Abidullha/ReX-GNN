{
  "nbformat": 4,
  "nbformat_minor": 0,
  "metadata": {
    "colab": {
      "provenance": [],
      "gpuType": "T4",
      "authorship_tag": "ABX9TyOgdytredN+/KpuNl1sgdDJ",
      "include_colab_link": true
    },
    "kernelspec": {
      "name": "python3",
      "display_name": "Python 3"
    },
    "language_info": {
      "name": "python"
    },
    "accelerator": "GPU"
  },
  "cells": [
    {
      "cell_type": "markdown",
      "metadata": {
        "id": "view-in-github",
        "colab_type": "text"
      },
      "source": [
        "<a href=\"https://colab.research.google.com/github/Abidullha/ReX-GNN/blob/main/ReX_GNN_New_Setup.ipynb\" target=\"_parent\"><img src=\"https://colab.research.google.com/assets/colab-badge.svg\" alt=\"Open In Colab\"/></a>"
      ]
    },
    {
      "cell_type": "markdown",
      "source": [
        "# 🧠 ReX-GNN Setup Notebook\n",
        "*A Modular, Interpretable Spatio-Temporal GNN for Traffic Forecasting*\n",
        "\n",
        "This notebook includes:\n",
        "- ✅ GCN + Attention demos\n",
        "- ✅ ReX-GNN full model definition\n",
        "- ✅ Dataset summary\n",
        "- ✅ Prepares for Stage 2 training pipeline\n"
      ],
      "metadata": {
        "id": "cOsmsEHGL_xe"
      }
    },
    {
      "cell_type": "markdown",
      "source": [
        "## 📑 Table of Contents\n",
        "1. Setup & Imports\n",
        "2. Toy Graph + GCN Demo\n",
        "3. Spatial & Temporal Attention Demo\n",
        "4. ReX-GNN Architecture\n",
        "5. Dataset Summary\n",
        "6. Ready for Stage 2\n"
      ],
      "metadata": {
        "id": "ZnOOWiC_MjfO"
      }
    },
    {
      "cell_type": "code",
      "source": [
        "# Install PyTorch Geometric and dependencies (for CUDA 11.8 and PyTorch ≥ 2.0)\n",
        "# Always match versions with current torch build\n",
        "import torch\n",
        "print(\"Torch version:\", torch.__version__)\n",
        "\n",
        "# Install PyG dependencies\n",
        "!pip install -q torch-scatter -f https://data.pyg.org/whl/torch-2.0.0+cu118.html\n",
        "!pip install -q torch-sparse -f https://data.pyg.org/whl/torch-2.0.0+cu118.html\n",
        "!pip install -q torch-geometric\n"
      ],
      "metadata": {
        "colab": {
          "base_uri": "https://localhost:8080/"
        },
        "id": "Jrkt1JovNamr",
        "outputId": "5e86b9b2-68c9-462f-b459-48a7778b7f11"
      },
      "execution_count": null,
      "outputs": [
        {
          "output_type": "stream",
          "name": "stdout",
          "text": [
            "Torch version: 2.6.0+cu124\n",
            "\u001b[2K     \u001b[90m━━━━━━━━━━━━━━━━━━━━━━━━━━━━━━━━━━━━━━━━\u001b[0m \u001b[32m10.2/10.2 MB\u001b[0m \u001b[31m43.0 MB/s\u001b[0m eta \u001b[36m0:00:00\u001b[0m\n",
            "\u001b[2K     \u001b[90m━━━━━━━━━━━━━━━━━━━━━━━━━━━━━━━━━━━━━━━━\u001b[0m \u001b[32m4.9/4.9 MB\u001b[0m \u001b[31m25.1 MB/s\u001b[0m eta \u001b[36m0:00:00\u001b[0m\n",
            "\u001b[2K     \u001b[90m━━━━━━━━━━━━━━━━━━━━━━━━━━━━━━━━━━━━━━━━\u001b[0m \u001b[32m63.1/63.1 kB\u001b[0m \u001b[31m2.7 MB/s\u001b[0m eta \u001b[36m0:00:00\u001b[0m\n",
            "\u001b[2K   \u001b[90m━━━━━━━━━━━━━━━━━━━━━━━━━━━━━━━━━━━━━━━━\u001b[0m \u001b[32m1.1/1.1 MB\u001b[0m \u001b[31m31.4 MB/s\u001b[0m eta \u001b[36m0:00:00\u001b[0m\n",
            "\u001b[?25h"
          ]
        }
      ]
    },
    {
      "cell_type": "code",
      "source": [
        "# Basic setup: PyTorch, PyG, device check\n",
        "\n",
        "import torch\n",
        "import torch.nn as nn\n",
        "import torch.nn.functional as F\n",
        "import torch.optim as optim\n",
        "import numpy as np\n",
        "\n",
        "from torch_geometric.nn import GCNConv\n",
        "from torch_geometric.data import Data\n",
        "\n",
        "device = torch.device(\"cuda\" if torch.cuda.is_available() else \"cpu\")\n",
        "print(\"✅ Device:\", device)\n"
      ],
      "metadata": {
        "colab": {
          "base_uri": "https://localhost:8080/"
        },
        "id": "uZfEn2BVNM7M",
        "outputId": "bda1352c-3058-4edc-b037-acf253d730ed"
      },
      "execution_count": null,
      "outputs": [
        {
          "output_type": "stream",
          "name": "stderr",
          "text": [
            "/usr/local/lib/python3.11/dist-packages/torch_geometric/typing.py:86: UserWarning: An issue occurred while importing 'torch-scatter'. Disabling its usage. Stacktrace: /usr/local/lib/python3.11/dist-packages/torch_scatter/_version_cuda.so: undefined symbol: _ZN3c1017RegisterOperatorsD1Ev\n",
            "  warnings.warn(f\"An issue occurred while importing 'torch-scatter'. \"\n",
            "/usr/local/lib/python3.11/dist-packages/torch_geometric/typing.py:124: UserWarning: An issue occurred while importing 'torch-sparse'. Disabling its usage. Stacktrace: /usr/local/lib/python3.11/dist-packages/torch_sparse/_version_cuda.so: undefined symbol: _ZN3c1017RegisterOperatorsD1Ev\n",
            "  warnings.warn(f\"An issue occurred while importing 'torch-sparse'. \"\n"
          ]
        },
        {
          "output_type": "stream",
          "name": "stdout",
          "text": [
            "✅ Device: cuda\n"
          ]
        }
      ]
    },
    {
      "cell_type": "markdown",
      "source": [
        "### 🔁 Toy GCN Example (for intuition)\n",
        "\n",
        "Simple 4-node graph to show how GCN propagates features via edges.\n"
      ],
      "metadata": {
        "id": "lLl-YI6BOWHV"
      }
    },
    {
      "cell_type": "code",
      "source": [
        "import torch\n",
        "from torch_geometric.data import Data\n",
        "from torch_geometric.nn import GCNConv\n",
        "import torch.nn as nn\n",
        "\n",
        "# Define a small undirected graph with 4 nodes and edges\n",
        "edge_index = torch.tensor([\n",
        "    [0, 1, 1, 2, 2, 3],\n",
        "    [1, 0, 2, 1, 3, 2]\n",
        "], dtype=torch.long)\n",
        "\n",
        "# Node features: a single value for each of the 4 nodes\n",
        "x = torch.tensor([\n",
        "    [1.0],\n",
        "    [2.0],\n",
        "    [3.0],\n",
        "    [4.0]\n",
        "], dtype=torch.float)\n",
        "\n",
        "# Build PyG data object\n",
        "toy_data = Data(x=x, edge_index=edge_index)\n",
        "\n",
        "# Define a simple 1-layer GCN model\n",
        "class MiniGCN(nn.Module):\n",
        "    def __init__(self):\n",
        "        super().__init__()\n",
        "        self.gcn = GCNConv(1, 2)  # 1 input feature → 2 output features\n",
        "\n",
        "    def forward(self, data):\n",
        "        return self.gcn(data.x, data.edge_index)\n",
        "\n",
        "# Run model on toy data\n",
        "model = MiniGCN()\n",
        "out = model(toy_data)\n",
        "\n",
        "print(\"🔎 GCN output:\\n\", out)\n"
      ],
      "metadata": {
        "colab": {
          "base_uri": "https://localhost:8080/"
        },
        "id": "RiJTLjxWOXoa",
        "outputId": "60bb0d0e-b0c7-4610-c3be-7d136191a30e"
      },
      "execution_count": null,
      "outputs": [
        {
          "output_type": "stream",
          "name": "stdout",
          "text": [
            "🔎 GCN output:\n",
            " tensor([[1.3849, 1.4316],\n",
            "        [2.1828, 2.2563],\n",
            "        [3.4712, 3.5881],\n",
            "        [3.3924, 3.5066]], grad_fn=<AddBackward0>)\n"
          ]
        }
      ]
    },
    {
      "cell_type": "markdown",
      "source": [
        "## 🔢 Core Python Libraries Overview\n",
        "\n",
        "### 📘 NumPy — Numerical Computing  \n",
        "**Main Use:** Arrays, math, matrix ops  \n",
        "**Typical Domain:** All scientific computing  \n",
        "- Provides fast numerical operations, especially on large arrays and matrices  \n",
        "- Used for: Linear algebra, tensors, and low-level data processing  \n",
        "- Why it matters: Deep learning frameworks like PyTorch are built around NumPy-like tensors  \n",
        "\n",
        "### 📘 Pandas — Data Handling  \n",
        "**Main Use:** DataFrames, data cleaning  \n",
        "**Typical Domain:** Data science, preprocessing  \n",
        "- Used to load, clean, and manipulate structured data  \n",
        "- Makes it easy to handle tabular data like CSV files  \n",
        "\n",
        "### 📘 Matplotlib — Plotting  \n",
        "**Main Use:** Visualization  \n",
        "**Typical Domain:** All of Python (ML, stats, reporting)  \n",
        "- Used to plot graphs, charts, and curves  \n",
        "- Helpful for debugging loss curves, accuracy trends, etc.\n",
        "\n",
        "### 💡 Example Use:\n",
        "```python\n",
        "import numpy as np\n",
        "import pandas as pd\n",
        "import matplotlib.pyplot as plt\n",
        "\n",
        "a = np.array([1, 2, 3])\n",
        "df = pd.DataFrame({'col1': [1, 2], 'col2': [3, 4]})\n",
        "plt.plot([1, 2, 3], [4, 5, 6])\n",
        "plt.title(\"Simple Line Plot\")\n",
        "plt.show()\n"
      ],
      "metadata": {
        "id": "vYCFrqyLO5IP"
      }
    },
    {
      "cell_type": "code",
      "source": [
        "import numpy as np\n",
        "import pandas as pd\n",
        "import matplotlib.pyplot as plt\n",
        "\n",
        "traffic = np.array([100, 130, 150, 140, 110])\n",
        "moving_avg = np.convolve(traffic, np.ones(3)/3, mode='valid')\n",
        "print(\"Moving Average:\", moving_avg)\n"
      ],
      "metadata": {
        "colab": {
          "base_uri": "https://localhost:8080/"
        },
        "id": "XqtG0-7gO7gT",
        "outputId": "bafcbdb3-5f16-4fbf-d7cf-b39eb2079103"
      },
      "execution_count": null,
      "outputs": [
        {
          "output_type": "stream",
          "name": "stdout",
          "text": [
            "Moving Average: [126.66666667 140.         133.33333333]\n"
          ]
        }
      ]
    },
    {
      "cell_type": "markdown",
      "source": [
        "### 📊 Time-Series Plot Example (with Pandas + Matplotlib)\n",
        "\n",
        "This example demonstrates how to create a simple time-series plot using a `pandas.DataFrame` and Matplotlib. This is useful for visualizing traffic patterns, weather, or other temporal data.\n"
      ],
      "metadata": {
        "id": "tymDQMF2PilU"
      }
    },
    {
      "cell_type": "code",
      "source": [
        "import pandas as pd\n",
        "import matplotlib.pyplot as plt\n",
        "import numpy as np\n",
        "\n",
        "# Simulated traffic volume data\n",
        "traffic = np.random.randint(100, 200, size=5)\n",
        "\n",
        "# Create date range and build DataFrame\n",
        "dates = pd.date_range(\"2025-01-01\", periods=5)\n",
        "df = pd.DataFrame({'date': dates, 'volume': traffic}).set_index('date')\n",
        "\n",
        "# Plot\n",
        "df.plot()\n",
        "plt.title(\"Traffic Volume Over Time\")\n",
        "plt.ylabel(\"Volume\")\n",
        "plt.xlabel(\"Date\")\n",
        "plt.grid(True)\n",
        "plt.show()\n"
      ],
      "metadata": {
        "colab": {
          "base_uri": "https://localhost:8080/",
          "height": 504
        },
        "id": "XRCxldKfPkre",
        "outputId": "62b42ad3-1d97-4f91-b8ba-1f7fc0582346"
      },
      "execution_count": null,
      "outputs": [
        {
          "output_type": "display_data",
          "data": {
            "text/plain": [
              "<Figure size 640x480 with 1 Axes>"
            ],
            "image/png": "[encoded data removed]"
          },
          "metadata": {}
        }
      ]
    },
    {
      "cell_type": "markdown",
      "source": [
        "### 🧱 Graph Construction with PyTorch Geometric\n",
        "\n",
        "PyTorch Geometric represents a graph using a `Data` object with:\n",
        "- `x`: Node features (shape: [num_nodes, num_features])\n",
        "- `edge_index`: Graph connectivity in COO format (shape: [2, num_edges])\n",
        "\n",
        "This format is memory-efficient and enables batch processing of graphs for GNN training.\n"
      ],
      "metadata": {
        "id": "c4e_s6oHP4a6"
      }
    },
    {
      "cell_type": "code",
      "source": [
        "from torch_geometric.data import Data\n",
        "\n",
        "x = torch.tensor([[60, 100], [45, 130], [50, 120], [70, 80]], dtype=torch.float)\n",
        "edge_index = torch.tensor([[0, 1, 2, 3, 0], [1, 2, 3, 0, 2]], dtype=torch.long)\n",
        "edge_attr = torch.tensor([[1.0], [0.5], [1.2], [0.7], [0.9]], dtype=torch.float)\n",
        "\n",
        "graph = Data(x=x, edge_index=edge_index, edge_attr=edge_attr)\n",
        "print(graph)\n",
        "\n"
      ],
      "metadata": {
        "colab": {
          "base_uri": "https://localhost:8080/"
        },
        "id": "WYwoO56sP6aX",
        "outputId": "a4e0cd48-8919-48e6-fd5f-74011277ecb6"
      },
      "execution_count": null,
      "outputs": [
        {
          "output_type": "stream",
          "name": "stdout",
          "text": [
            "Data(x=[4, 2], edge_index=[2, 5], edge_attr=[5, 1])\n"
          ]
        }
      ]
    },
    {
      "cell_type": "markdown",
      "source": [
        "### 🤖 Mini Neural Network Regression in PyTorch\n",
        "\n",
        "In this section, we build and train a simple neural network using PyTorch.\n",
        "\n",
        "**Goal:** Predict traffic volume based on the hour of the day (0–23).  \n",
        "The input `X` represents the hour, and the target `y` is the corresponding traffic volume.\n",
        "\n",
        "#### 🧱 Network Architecture:\n",
        "- A fully connected `Linear` layer\n",
        "- A `ReLU` activation function\n",
        "- An output `Linear` layer predicting traffic volume\n",
        "\n",
        "#### ⚙️ Training Setup:\n",
        "- **Loss Function:** Mean Squared Error (MSE)\n",
        "- **Optimizer:** Adam\n",
        "- **Epochs:** 300\n",
        "\n",
        "This example demonstrates basic training and inference before we move to GNNs.\n"
      ],
      "metadata": {
        "id": "Xgq6HGymQyiG"
      }
    },
    {
      "cell_type": "code",
      "source": [
        "import torch\n",
        "import torch.nn as nn\n",
        "import torch.optim as optim\n",
        "\n",
        "# Simulated data: hours of day → traffic volume\n",
        "X = torch.arange(0, 24).float().reshape(-1, 1)\n",
        "y = torch.tensor([80, 60, 40, 30, 25, 20, 30, 60, 120, 150, 160, 170,\n",
        "                  180, 190, 170, 160, 140, 130, 110, 100, 90, 100, 120, 100]).float().reshape(-1, 1)\n",
        "\n",
        "# Define a small neural network\n",
        "model = nn.Sequential(\n",
        "    nn.Linear(1, 32),\n",
        "    nn.ReLU(),\n",
        "    nn.Linear(32, 1)\n",
        ")\n",
        "\n",
        "loss_fn = nn.MSELoss()\n",
        "optimizer = optim.Adam(model.parameters(), lr=0.01)\n",
        "\n",
        "# Training loop\n",
        "for epoch in range(300):\n",
        "    model.train()\n",
        "    y_pred = model(X)\n",
        "    loss = loss_fn(y_pred, y)\n",
        "\n",
        "    optimizer.zero_grad()\n",
        "    loss.backward()\n",
        "    optimizer.step()\n",
        "\n",
        "    if epoch % 50 == 0:\n",
        "        print(f\"Epoch {epoch}: Loss = {loss.item():.2f}\")"
      ],
      "metadata": {
        "colab": {
          "base_uri": "https://localhost:8080/"
        },
        "id": "c9KnHy6XSsJG",
        "outputId": "bdb0f8fd-0bc7-4180-f071-6cce43a8b497"
      },
      "execution_count": null,
      "outputs": [
        {
          "output_type": "stream",
          "name": "stdout",
          "text": [
            "Epoch 0: Loss = 15241.60\n",
            "Epoch 50: Loss = 4150.26\n",
            "Epoch 100: Loss = 2790.09\n",
            "Epoch 150: Loss = 2597.65\n",
            "Epoch 200: Loss = 2457.90\n",
            "Epoch 250: Loss = 2361.95\n"
          ]
        }
      ]
    },
    {
      "cell_type": "markdown",
      "source": [
        "### 🤖 Mini Regression: Predicting Traffic Volume from Hour\n",
        "\n",
        "This simple regression task uses synthetic data to predict traffic volume based on the hour of the day. It demonstrates model training, loss reduction, and prediction — before we move to complex graph-based models.\n"
      ],
      "metadata": {
        "id": "RH2QWMihQQNs"
      }
    },
    {
      "cell_type": "code",
      "source": [
        "from sklearn.linear_model import LinearRegression\n",
        "from sklearn.metrics import mean_absolute_error, mean_squared_error\n",
        "\n",
        "X = np.array([[i] for i in range(24)])\n",
        "y = np.array([80, 60, 40, 30, 25, 20, 30, 60, 120, 150, 160, 170,\n",
        "              180, 190, 170, 160, 140, 130, 110, 100, 90, 100, 120, 100])\n",
        "\n",
        "X_train, X_test = X[:19], X[19:]\n",
        "y_train, y_test = y[:19], y[19:]\n",
        "\n",
        "model = LinearRegression()\n",
        "model.fit(X_train, y_train)\n",
        "\n",
        "y_pred = model.predict(X_test)\n",
        "mae = mean_absolute_error(y_test, y_pred)\n",
        "rmse = mean_squared_error(y_test, y_pred) ** 0.5\n",
        "\n",
        "print(f\"MAE: {mae:.2f}, RMSE: {rmse:.2f}\")"
      ],
      "metadata": {
        "colab": {
          "base_uri": "https://localhost:8080/"
        },
        "id": "AZ7FVlVvQW7P",
        "outputId": "4f6d706f-91bc-4610-f48a-f79423915666"
      },
      "execution_count": null,
      "outputs": [
        {
          "output_type": "stream",
          "name": "stdout",
          "text": [
            "MAE: 97.74, RMSE: 98.37\n"
          ]
        }
      ]
    },
    {
      "cell_type": "markdown",
      "source": [
        "### 📈 Visualizing the Model's Predictions\n",
        "Now that the neural network is trained, we’ll evaluate its performance by plotting:\n",
        "\n",
        "The true traffic volumes for each hour\n",
        "The predicted values from the neural network\n",
        "This helps us visually assess how well the model has learned the time-based traffic pattern. The closer the two curves are, the better the model's performance."
      ],
      "metadata": {
        "id": "drOLq3BDRjrM"
      }
    },
    {
      "cell_type": "code",
      "source": [
        "import torch.nn as nn\n",
        "\n",
        "# Define PyTorch regression model again\n",
        "model = nn.Sequential(\n",
        "    nn.Linear(1, 32),\n",
        "    nn.ReLU(),\n",
        "    nn.Linear(32, 1)\n",
        ")\n"
      ],
      "metadata": {
        "id": "J9IYBhs2SKka"
      },
      "execution_count": null,
      "outputs": []
    },
    {
      "cell_type": "code",
      "source": [
        "import torch.optim as optim\n",
        "\n",
        "X = torch.arange(0, 24).float().reshape(-1, 1)\n",
        "y = torch.tensor([80, 60, 40, 30, 25, 20, 30, 60, 120, 150, 160, 170,\n",
        "                  180, 190, 170, 160, 140, 130, 110, 100, 90, 100, 120, 100]).float().reshape(-1, 1)\n",
        "\n",
        "loss_fn = nn.MSELoss()\n",
        "optimizer = optim.Adam(model.parameters(), lr=0.01)\n",
        "\n",
        "for epoch in range(300):\n",
        "    model.train()\n",
        "    y_pred = model(X)\n",
        "    loss = loss_fn(y_pred, y)\n",
        "\n",
        "    optimizer.zero_grad()\n",
        "    loss.backward()\n",
        "    optimizer.step()\n",
        "\n"
      ],
      "metadata": {
        "id": "gVLyaV3_R1BP"
      },
      "execution_count": null,
      "outputs": []
    },
    {
      "cell_type": "code",
      "source": [
        "import matplotlib.pyplot as plt\n",
        "\n",
        "# Generate predictions\n",
        "model.eval()\n",
        "with torch.no_grad():\n",
        "    y_pred = model(X)\n",
        "\n",
        "# Plot actual vs predicted\n",
        "plt.figure(figsize=(10, 5))\n",
        "plt.plot(X.numpy(), y.numpy(), label='True Volume', marker='o')\n",
        "plt.plot(X.numpy(), y_pred.numpy(), label='Predicted Volume', marker='x')\n",
        "plt.xlabel('Hour of Day')\n",
        "plt.ylabel('Traffic Volume')\n",
        "plt.title('True vs Predicted Traffic Volume')\n",
        "plt.legend()\n",
        "plt.grid(True)\n",
        "plt.show()"
      ],
      "metadata": {
        "colab": {
          "base_uri": "https://localhost:8080/",
          "height": 487
        },
        "id": "O8GXDIUvTQS-",
        "outputId": "76ac42ce-2a65-42f0-8f09-b61b98406a92"
      },
      "execution_count": null,
      "outputs": [
        {
          "output_type": "display_data",
          "data": {
            "text/plain": [
              "<Figure size 1000x500 with 1 Axes>"
            ],
            "image/png": "[encoded data removed]"
          },
          "metadata": {}
        }
      ]
    },
    {
      "cell_type": "markdown",
      "source": [
        "### GRU vs. LSTM for Temporal Modeling\n",
        "\n",
        "ReX-GNN uses GRUs to model temporal patterns in traffic networks. GRUs are faster, simpler, and often perform comparably to LSTMs. This makes them ideal for short-to-mid-length sequences like traffic time series.\n",
        "\n",
        "| Feature | GRU | LSTM |\n",
        "|--------|-----|------|\n",
        "| Gates | 2 | 3 |\n",
        "| Speed | Faster | Slower |\n",
        "| Accuracy | Good | Often comparable |\n",
        "| Use in GNNs | ✅ Yes | ✅ Sometimes |"
      ],
      "metadata": {
        "id": "gGP1weTXTYVX"
      }
    },
    {
      "cell_type": "markdown",
      "source": [
        "### 🔄 Sliding Window Forecasting Demo\n",
        "\n",
        "This demo shows how to convert a raw time-series into input-output training pairs using the **sliding window technique**.\n",
        "\n",
        "---\n",
        "\n",
        "#### 🧠 Concept:\n",
        "We take a time-series sequence (e.g., hourly traffic volumes) and convert it into many short sub-sequences:\n",
        "\n",
        "- Each input is a **fixed-length window** (e.g., last 12 hours)\n",
        "- Each target is the **next 1–3 values** after that window\n",
        "\n",
        "This allows RNNs or GRUs to learn from recent temporal patterns and predict what's next.\n",
        "\n",
        "---\n",
        "\n",
        "#### ⚙️ Parameters:\n",
        "- `input_len = 12`: how many past steps the model sees\n",
        "- `output_len = 3`: how many future steps it predicts\n"
      ],
      "metadata": {
        "id": "m91p5A89Twl6"
      }
    },
    {
      "cell_type": "code",
      "source": [
        "import numpy as np\n",
        "\n",
        "# Simulated time-series data (e.g., traffic volume for 30 hours)\n",
        "data = np.arange(30) + np.random.randn(30) * 2  # noisy trend\n",
        "input_len = 12\n",
        "output_len = 3\n",
        "\n",
        "X = []\n",
        "y = []\n",
        "\n",
        "# Create sliding windows\n",
        "for i in range(len(data) - input_len - output_len + 1):\n",
        "    input_seq = data[i : i + input_len]\n",
        "    output_seq = data[i + input_len : i + input_len + output_len]\n",
        "    X.append(input_seq)\n",
        "    y.append(output_seq)\n",
        "\n",
        "X = np.array(X)\n",
        "y = np.array(y)\n",
        "\n",
        "print(f\"X shape: {X.shape}  --> [num_windows, input_len]\")\n",
        "print(f\"y shape: {y.shape}  --> [num_windows, output_len]\")\n",
        "\n",
        "# Example: visualize first input/target pair\n",
        "print(\"\\n🔹 First window:\")\n",
        "print(\"Input (past 12):\", X[0])\n",
        "print(\"Target (next 3):\", y[0])\n"
      ],
      "metadata": {
        "colab": {
          "base_uri": "https://localhost:8080/"
        },
        "id": "_qkX0IRtTyTx",
        "outputId": "7c92dbe0-dfe3-45f5-bb97-97b6bd6e29e5"
      },
      "execution_count": null,
      "outputs": [
        {
          "output_type": "stream",
          "name": "stdout",
          "text": [
            "X shape: (16, 12)  --> [num_windows, input_len]\n",
            "y shape: (16, 3)  --> [num_windows, output_len]\n",
            "\n",
            "🔹 First window:\n",
            "Input (past 12): [ 3.9345674   0.94069182  3.51677361  2.2202705   5.3656691   7.25983041\n",
            "  5.61451368  2.43214817  7.57006076  7.97392289  7.22594935 11.16972745]\n",
            "Target (next 3): [13.13896657 13.78763226 14.56460301]\n"
          ]
        }
      ]
    },
    {
      "cell_type": "markdown",
      "source": [
        "### 📊 Visualizing the Sliding Windows\n",
        "\n",
        "Now we’ll visualize how the sliding window technique splits time-series data into input-output pairs.\n",
        "\n",
        "---\n",
        "\n",
        "🪟 **Each window** represents a short sequence of past time steps (e.g., the past 12 traffic readings).  \n",
        "The model learns to **predict the next value(s)** that follow that window.\n",
        "\n",
        "---\n",
        "\n",
        "This helps the model understand:\n",
        "- ✅ Recent trends in traffic patterns\n",
        "- ✅ How to use historical data to forecast upcoming conditions\n",
        "\n",
        "We'll now plot the windows on a timeline to show how the input (`X`) and target (`y`) are formed visually.\n"
      ],
      "metadata": {
        "id": "JjTGGD7AUCZ8"
      }
    },
    {
      "cell_type": "code",
      "source": [
        "import matplotlib.pyplot as plt\n",
        "\n",
        "# Visualize the first few windows (e.g., 3)\n",
        "num_windows_to_plot = 3\n",
        "time = np.arange(len(data))\n",
        "\n",
        "plt.figure(figsize=(12, 4))\n",
        "plt.plot(time, data, label='Full Time Series', color='lightgray')\n",
        "\n",
        "for idx in range(num_windows_to_plot):\n",
        "    input_range = np.arange(idx, idx + input_len)\n",
        "    output_range = np.arange(idx + input_len, idx + input_len + output_len)\n",
        "\n",
        "    # Plot input window\n",
        "    plt.plot(input_range, X[idx], label=f'Input {idx+1}', marker='o')\n",
        "\n",
        "    # Plot output window\n",
        "    plt.plot(output_range, y[idx], label=f'Target {idx+1}', marker='x', linestyle='--')\n",
        "\n",
        "plt.title(\"Sliding Window Forecasting: Inputs and Targets\")\n",
        "plt.xlabel(\"Time Step\")\n",
        "plt.ylabel(\"Value\")\n",
        "plt.legend()\n",
        "plt.grid(True)\n",
        "plt.tight_layout()\n",
        "plt.show()\n"
      ],
      "metadata": {
        "colab": {
          "base_uri": "https://localhost:8080/",
          "height": 326
        },
        "id": "b8cV9A_jUD51",
        "outputId": "07afcb54-3b91-4564-986e-cd704d125804"
      },
      "execution_count": null,
      "outputs": [
        {
          "output_type": "display_data",
          "data": {
            "text/plain": [
              "<Figure size 1200x400 with 1 Axes>"
            ],
            "image/png": "[encoded data removed]"
          },
          "metadata": {}
        }
      ]
    },
    {
      "cell_type": "markdown",
      "source": [
        "### 🔍 Sliding Window Structure (Single Example)\n",
        "\n",
        "This plot shows how a time-series is divided into:\n",
        "\n",
        "- 🟧 **Input Window**: The sequence of past values used for learning\n",
        "- 🟩 **Forecast Horizon**: The next few values the model is expected to predict\n",
        "\n",
        "This structure is applied repeatedly across the time-series to form training data.\n"
      ],
      "metadata": {
        "id": "duz0946qUiIb"
      }
    },
    {
      "cell_type": "code",
      "source": [
        "plt.figure(figsize=(10, 4))\n",
        "plt.plot(traffic, marker='o', label=\"Traffic Volume\")\n",
        "plt.axvspan(0, 12, color='orange', alpha=0.3, label=\"Input Window\")\n",
        "plt.axvspan(12, 18, color='green', alpha=0.3, label=\"Forecast Horizon\")\n",
        "plt.title(\"Sliding Window Structure\")\n",
        "plt.xlabel(\"Hour\")\n",
        "plt.ylabel(\"Volume\")\n",
        "plt.legend()\n",
        "plt.grid(True)\n",
        "plt.show()\n"
      ],
      "metadata": {
        "colab": {
          "base_uri": "https://localhost:8080/",
          "height": 410
        },
        "id": "kzikIeTEUkpi",
        "outputId": "f7fd487f-ba8e-4f70-a7b7-b45a8d455bd9"
      },
      "execution_count": null,
      "outputs": [
        {
          "output_type": "display_data",
          "data": {
            "text/plain": [
              "<Figure size 1000x400 with 1 Axes>"
            ],
            "image/png": "[encoded data removed]"
          },
          "metadata": {}
        }
      ]
    },
    {
      "cell_type": "markdown",
      "source": [
        "### 🧠 Mini GCN on Toy Graph (PyTorch Geometric)\n",
        "\n",
        "This demo shows how a basic **Graph Convolutional Network (GCN)** layer performs message passing on a toy graph using PyTorch Geometric.\n",
        "\n",
        "---\n",
        "\n",
        "Each node has a feature (e.g., traffic volume)  \n",
        "Edges represent connections (e.g., roads between sensors)  \n",
        "The GCN layer **aggregates features from neighboring nodes** to update each node’s own representation.\n",
        "\n",
        "This is a **core idea in ReX-GNN** — used for learning spatial relationships in traffic networks.\n"
      ],
      "metadata": {
        "id": "U4tThYkuU0lh"
      }
    },
    {
      "cell_type": "code",
      "source": [
        "import torch\n",
        "from torch_geometric.data import Data\n",
        "from torch_geometric.nn import GCNConv\n",
        "import torch.nn as nn\n",
        "\n",
        "# 4-node undirected graph (edges go both ways)\n",
        "edge_index = torch.tensor([\n",
        "    [0, 1, 1, 2, 2, 3],\n",
        "    [1, 0, 2, 1, 3, 2]\n",
        "], dtype=torch.long)\n",
        "\n",
        "# Node features: 1 value per node (e.g., traffic volume)\n",
        "x = torch.tensor([\n",
        "    [1.0],  # Node 0\n",
        "    [2.0],  # Node 1\n",
        "    [3.0],  # Node 2\n",
        "    [4.0]   # Node 3\n",
        "], dtype=torch.float)\n",
        "\n",
        "# Wrap as a PyG graph\n",
        "data = Data(x=x, edge_index=edge_index)\n",
        "\n",
        "# Define Mini GCN\n",
        "class MiniGCN(nn.Module):\n",
        "    def __init__(self):\n",
        "        super().__init__()\n",
        "        self.gcn = GCNConv(1, 2)  # From 1 feature → 2-dimensional output\n",
        "\n",
        "    def forward(self, data):\n",
        "        return self.gcn(data.x, data.edge_index)\n",
        "\n",
        "# Run the GCN\n",
        "model = MiniGCN()\n",
        "out = model(data)\n",
        "\n",
        "print(\"📤 GCN Output Features:\\n\", out)\n"
      ],
      "metadata": {
        "colab": {
          "base_uri": "https://localhost:8080/"
        },
        "id": "HvB4bJ7WU2HT",
        "outputId": "5314286f-128c-4dee-a65f-f63d2af6e4d8"
      },
      "execution_count": null,
      "outputs": [
        {
          "output_type": "stream",
          "name": "stdout",
          "text": [
            "📤 GCN Output Features:\n",
            " tensor([[0.3749, 1.5599],\n",
            "        [0.5909, 2.4585],\n",
            "        [0.9396, 3.9097],\n",
            "        [0.9183, 3.8209]], grad_fn=<AddBackward0>)\n"
          ]
        }
      ]
    },
    {
      "cell_type": "markdown",
      "source": [
        "Code Cell 1 — Import & Define Toy Graph"
      ],
      "metadata": {
        "id": "CuAsx0zSVg5T"
      }
    },
    {
      "cell_type": "code",
      "source": [
        "import torch\n",
        "from torch_geometric.data import Data\n",
        "from torch_geometric.nn import GCNConv\n",
        "\n",
        "# 4 nodes with 1D features\n",
        "x = torch.tensor([[10.], [20.], [30.], [40.]], dtype=torch.float)\n",
        "\n",
        "# Edges (undirected): 0↔1, 1↔2, 2↔3\n",
        "edge_index = torch.tensor([\n",
        "    [0, 1, 1, 2, 2, 3],\n",
        "    [1, 0, 2, 1, 3, 2]\n",
        "], dtype=torch.long)\n",
        "\n",
        "# Create graph\n",
        "data = Data(x=x, edge_index=edge_index)\n",
        "print(data)\n"
      ],
      "metadata": {
        "colab": {
          "base_uri": "https://localhost:8080/"
        },
        "id": "YDp1kAbaVhgw",
        "outputId": "b553c2a0-327a-4e8d-ca8d-64fa1d056a16"
      },
      "execution_count": null,
      "outputs": [
        {
          "output_type": "stream",
          "name": "stdout",
          "text": [
            "Data(x=[4, 1], edge_index=[2, 6])\n"
          ]
        }
      ]
    },
    {
      "cell_type": "markdown",
      "source": [
        "Code Cell 2 — Apply GCN Layer"
      ],
      "metadata": {
        "id": "2wzhV-aIVndJ"
      }
    },
    {
      "cell_type": "code",
      "source": [
        "# Define a GCN layer (1 input → 2 output features)\n",
        "conv = GCNConv(in_channels=1, out_channels=2)\n",
        "\n",
        "# Run message passing\n",
        "x_out = conv(data.x, data.edge_index)\n",
        "\n",
        "print(\"Input features:\\n\", data.x)\n",
        "print(\"Output features after GCN:\\n\", x_out)\n"
      ],
      "metadata": {
        "colab": {
          "base_uri": "https://localhost:8080/"
        },
        "id": "rDJL4dBaVqxN",
        "outputId": "d1005c99-a7bd-4e18-d6dd-a2691a703658"
      },
      "execution_count": null,
      "outputs": [
        {
          "output_type": "stream",
          "name": "stdout",
          "text": [
            "Input features:\n",
            " tensor([[10.],\n",
            "        [20.],\n",
            "        [30.],\n",
            "        [40.]])\n",
            "Output features after GCN:\n",
            " tensor([[ 1.3264, 10.8393],\n",
            "        [ 2.0906, 17.0837],\n",
            "        [ 3.3246, 27.1675],\n",
            "        [ 3.2491, 26.5507]], grad_fn=<AddBackward0>)\n"
          ]
        }
      ]
    },
    {
      "cell_type": "markdown",
      "source": [
        "Code Cell 3 — Optional: Visualize Graph (if not done earlier)"
      ],
      "metadata": {
        "id": "wYXxmxjzV8bP"
      }
    },
    {
      "cell_type": "code",
      "source": [
        "import networkx as nx\n",
        "import matplotlib.pyplot as plt\n",
        "from torch_geometric.utils import to_networkx\n",
        "\n",
        "# Convert PyG Data object to a NetworkX graph\n",
        "G = to_networkx(data, to_undirected=True)\n",
        "\n",
        "# Draw graph\n",
        "plt.figure(figsize=(5, 4))\n",
        "nx.draw(G, with_labels=True, node_color='lightblue', node_size=800, font_size=12)\n",
        "plt.title(\"🕸️ Toy Graph: Node Connectivity\")\n",
        "plt.show()\n"
      ],
      "metadata": {
        "colab": {
          "base_uri": "https://localhost:8080/",
          "height": 459
        },
        "id": "ykmX4l4rV9Fn",
        "outputId": "397911e7-a132-4b5e-cdaa-00a27a64cac2"
      },
      "execution_count": null,
      "outputs": [
        {
          "output_type": "display_data",
          "data": {
            "text/plain": [
              "<Figure size 500x400 with 1 Axes>"
            ],
            "image/png": "[encoded data removed]"
          },
          "metadata": {}
        }
      ]
    },
    {
      "cell_type": "markdown",
      "source": [
        "### 🧠 GCN Summary\n",
        "\n",
        "The GCN layer updated each node's feature based on its neighbors:\n",
        "\n",
        "- Node 1’s output depends on Node 0 & 2\n",
        "- Node 2’s output depends on Node 1 & 3\n",
        "\n",
        "This is the basis of **spatial feature extraction** in ReX-GNN."
      ],
      "metadata": {
        "id": "KPwdxzPhWj6c"
      }
    },
    {
      "cell_type": "markdown",
      "source": [
        "### 🧠 XAI and ReX-GNN's Research Position\n",
        "### 🔍 What is Explainable AI (XAI)?\n",
        "\n",
        "Explainable AI refers to methods and techniques that make the behavior of AI systems understandable to humans. In real-world systems like traffic forecasting, explainability increases trust, usability, and compliance with AI ethics guidelines.\n",
        "\n",
        "---\n",
        "\n",
        "### 🔦 ReX-GNN: Interpretable-by-Design\n",
        "\n",
        "ReX-GNN integrates attention mechanisms to highlight:\n",
        "- Important **roads (spatial attention)**\n",
        "- Relevant **time steps (temporal attention)**\n",
        "\n",
        "These attention scores can be visualized and interpreted to understand why the model made a certain prediction — **while the model is running**.\n",
        "\n",
        "This means:\n",
        "- ✅ No need for post-hoc tools (like SHAP or LIME)\n",
        "- ✅ Interpretability is part of the model's output\n",
        "\n",
        "---\n",
        "\n",
        "### ⚠️ Attention ≠ Explanation (Jain & Wallace, 2019)\n",
        "\n",
        "Attention helps identify **where the model looks**, but not **why it predicts** what it does.  \n",
        "That’s why we use:\n",
        "- Multiple attention heads\n",
        "- Softmax-normalized weights\n",
        "- Comparison with saliency maps in future work (Stage 3.2)\n",
        "\n",
        "---\n",
        "\n",
        "### 🧭 XAI Compliance & Ethics\n",
        "\n",
        "ReX-GNN aligns with:\n",
        "- 🇺🇸 DARPA XAI Goals (Trust + Insight)\n",
        "- 🇪🇺 EU AI Act (2023) — “Right to Explanation”\n",
        "- 🌐 IEEE Guidelines on Ethically Aligned AI\n",
        "\n",
        "---\n",
        "\n",
        "### 🧠 Research Positioning Summary\n",
        "\n",
        "ReX-GNN sits at the intersection of:\n",
        "\n",
        "| Layer | Role |\n",
        "|-------|------|\n",
        "| AI | Traffic Prediction |\n",
        "| DL | Spatio-Temporal Forecasting |\n",
        "| GNN | Road Network Representation |\n",
        "| XAI | Interpretable-by-Design |\n",
        "| Novelty | Modular, real-time, explainable architecture |"
      ],
      "metadata": {
        "id": "NS_rRuiEWlZK"
      }
    },
    {
      "cell_type": "markdown",
      "source": [
        "### 🕒 Simulated Temporal Attention (Bar Chart)\n",
        "\n",
        "This chart simulates **temporal attention** weights over the last 12 time steps.  \n",
        "It shows which moments in recent history are considered most important by the model.\n",
        "\n",
        "This helps interpret **which recent time points** most influence the traffic prediction.\n"
      ],
      "metadata": {
        "id": "n1nsI0QjXR0i"
      }
    },
    {
      "cell_type": "code",
      "source": [
        "import numpy as np\n",
        "import matplotlib.pyplot as plt\n",
        "\n",
        "# Simulated temporal attention weights (e.g., from GRU)\n",
        "time_steps = np.arange(12)\n",
        "attention_weights = np.array([0.02, 0.04, 0.05, 0.08, 0.12, 0.15, 0.14, 0.10, 0.08, 0.07, 0.08, 0.07])\n",
        "\n",
        "plt.figure(figsize=(8, 4))\n",
        "plt.bar(time_steps, attention_weights)\n",
        "plt.title(\"Simulated Temporal Attention Weights\")\n",
        "plt.xlabel(\"Time Step (t − 11 to t)\")\n",
        "plt.ylabel(\"Attention Score\")\n",
        "plt.grid(True)\n",
        "plt.show()\n"
      ],
      "metadata": {
        "colab": {
          "base_uri": "https://localhost:8080/",
          "height": 410
        },
        "id": "-ZTpWpl9XTaM",
        "outputId": "9dc81a2e-cfcb-4384-f3ea-50f754d0dfd1"
      },
      "execution_count": null,
      "outputs": [
        {
          "output_type": "display_data",
          "data": {
            "text/plain": [
              "<Figure size 800x400 with 1 Axes>"
            ],
            "image/png": "[encoded data removed]"
          },
          "metadata": {}
        }
      ]
    },
    {
      "cell_type": "markdown",
      "source": [
        "### 🧭 Simulated Spatial-Temporal Attention (Heatmap)\n",
        "\n",
        "This simulated heatmap visualizes attention scores across nodes and time.  \n",
        "Each cell represents **how much focus** the model places on a specific node at a specific time step.\n",
        "\n",
        "This type of matrix is generated internally by ReX-GNN’s spatial and temporal attention layers.\n"
      ],
      "metadata": {
        "id": "3pz5YHVVYFS9"
      }
    },
    {
      "cell_type": "code",
      "source": [
        "import seaborn as sns\n",
        "\n",
        "# Simulated attention: 4 nodes × 6 time steps\n",
        "attention = np.random.rand(4, 6)\n",
        "\n",
        "plt.figure(figsize=(8, 4))\n",
        "sns.heatmap(attention, cmap='YlOrRd', annot=True, fmt=\".2f\",\n",
        "            xticklabels=[f\"T{i}\" for i in range(6)],\n",
        "            yticklabels=[f\"Node {i}\" for i in range(4)])\n",
        "plt.title(\"Simulated Attention Heatmap (Nodes × Time)\")\n",
        "plt.xlabel(\"Time Steps\")\n",
        "plt.ylabel(\"Nodes\")\n",
        "plt.tight_layout()\n",
        "plt.show()\n"
      ],
      "metadata": {
        "colab": {
          "base_uri": "https://localhost:8080/",
          "height": 407
        },
        "id": "DsTl0ywxYGqY",
        "outputId": "b1ce78f0-2f0e-4d6a-ad2e-eb297a7ff707"
      },
      "execution_count": null,
      "outputs": [
        {
          "output_type": "display_data",
          "data": {
            "text/plain": [
              "<Figure size 800x400 with 2 Axes>"
            ],
            "image/png": "[encoded data removed]"
          },
          "metadata": {}
        }
      ]
    },
    {
      "cell_type": "markdown",
      "source": [
        "## 🧪 Baseline: MSST-DGCN Summary\n",
        "\n",
        "**MSST-DGCN** is a high-performance spatio-temporal model designed for traffic forecasting.  \n",
        "It uses a **multi-scale**, **dual-graph convolutional structure**, which gives strong accuracy on benchmarks like METR-LA and PEMS-BAY.\n",
        "\n",
        "---\n",
        "\n",
        "### ⚠️ Limitations of MSST-DGCN:\n",
        "- ❌ Low interpretability — difficult to explain model behavior\n",
        "- ❌ Poor modularity — hard to isolate or ablate components\n",
        "- ❌ Complex backbone — dual-graph design increases training time and code maintenance\n",
        "\n",
        "---\n",
        "\n",
        "### ✅ Why ReX-GNN Improves on This:\n",
        "- 🧠 **Interpretable-by-Design**: Uses spatial and temporal attention that can be visualized directly\n",
        "- 🔁 **Simpler Backbone**: Single-graph approach reduces complexity\n",
        "- 🧩 **Modular Architecture**: Components (GCN, Attn, GRU) can be ablated and tested independently\n",
        "- 🚀 **Faster & Easier to Maintain**: More suited for real-world deployment, experimentation, and debugging\n",
        "\n",
        "---\n",
        "\n",
        "This baseline comparison motivates the architectural decisions behind ReX-GNN.\n"
      ],
      "metadata": {
        "id": "mK6wwjm4Y34F"
      }
    },
    {
      "cell_type": "markdown",
      "source": [
        "## ✨ ReX-GNN: Contribution & Innovation Summary\n",
        "\n",
        "**ReX-GNN** is a modular, interpretable-by-design graph neural network for spatio-temporal traffic forecasting.  \n",
        "Unlike models such as **MSST-DGCN**, which focus solely on accuracy through deep, complex architectures, ReX-GNN addresses a different goal:\n",
        "\n",
        "> ⚖️ **Trustworthy, human-understandable predictions** for real-time intelligent transportation systems.\n",
        "\n",
        "---\n",
        "\n",
        "### 🔑 Key Contributions\n",
        "\n",
        "🔍 **1. Interpretability by Design**  \n",
        "ReX-GNN integrates **spatial and temporal attention mechanisms** directly into the model.  \n",
        "This allows the network to:\n",
        "- Highlight **which roads (nodes)** influence predictions (spatial attention)\n",
        "- Highlight **which time steps** are most important (temporal attention)  \n",
        "This makes ReX-GNN suitable for human-in-the-loop applications and policy-sensitive environments.\n",
        "\n",
        "🧩 **2. Modular & Scalable Architecture**  \n",
        "Each component (GCN, GRU, Attention) is standalone and replaceable, enabling:\n",
        "- Easy debugging and ablation studies\n",
        "- Real-time deployment (e.g., via FastAPI + SUMO)\n",
        "- Flexible extension to multi-modal or hybrid urban-highway networks\n",
        "\n",
        "📊 **3. Competitive Performance with Simpler Design**  \n",
        "ReX-GNN achieves strong accuracy using **well-understood and efficient layers**.  \n",
        "It avoids complex dual-graph structures, making it:\n",
        "- Faster to train\n",
        "- Easier to tune\n",
        "- More maintainable in real-world systems\n",
        "\n",
        "---\n",
        "\n",
        "💡 **Summary**:  \n",
        "ReX-GNN represents a shift in STGNN research toward models that are:\n",
        "\n",
        "> ✅ **Interpretable**, 🧩 **Modular**, and 📈 **Accurate Enough**  \n",
        "> Not just another black-box prediction engine.\n",
        "\n",
        "\n",
        "💡 Overall, ReX-GNN contributes a new path in the STGNN research space:  \n",
        "> A model that is **interpretable, modular, and accurate enough** — not just a black-box prediction engine.\n",
        "┌────────────────────────────────────────────┐\n",
        "│        Input Sequence: X ∈ ℝ[T × N × F]    │\n",
        "│   (T past steps, N nodes, F features)      │\n",
        "└────────────────────────────────────────────┘\n",
        "                     ↓\n",
        "        ┌────────────────────────────┐\n",
        "        │ Graph Convolution (GCN)    │ ← spatial dependency per timestep\n",
        "        └────────────────────────────┘\n",
        "                     ↓\n",
        "        ┌────────────────────────────┐\n",
        "        │ Spatial Attention Module   │ ← interpretable node importance\n",
        "        └────────────────────────────┘\n",
        "                     ↓\n",
        "        ┌────────────────────────────┐\n",
        "        │ GRU Temporal Encoder       │ ← sequence modeling across time\n",
        "        └────────────────────────────┘\n",
        "                     ↓\n",
        "        ┌────────────────────────────┐\n",
        "        │ Temporal Attention Module  │ ← interpretable time-step importance\n",
        "        └────────────────────────────┘\n",
        "                     ↓\n",
        "        ┌────────────────────────────┐\n",
        "        │ Linear Output Layer        │ → Y ∈ ℝ[T' × N]\n",
        "        │ (predict future traffic)   │\n",
        "        └────────────────────────────┘\n",
        "\n",
        "\n"
      ],
      "metadata": {
        "id": "q8RVpfY0Y-gO"
      }
    },
    {
      "cell_type": "markdown",
      "source": [
        "## 🗂️ Step 1: Dataset Preparation — METR-LA & PEMS-BAY\n",
        "\n",
        "Prepare the METR-LA and PEMS-BAY traffic speed datasets for use in graph-based spatio-temporal models (like DCRNN, STGCN, or ReX-GNN).\n",
        "\n",
        "### 📊 Dataset Overview\n",
        "\n",
        "| Dataset   | Nodes | Features       | Duration         | Source        |\n",
        "|-----------|-------|----------------|------------------|----------------|\n",
        "| METR-LA   | 207   | Traffic speed  | 4 months (5-min) | L.A. Highways |\n",
        "| PEMS-BAY  | 325   | Traffic speed  | 6 months         | Bay Area, CA  |\n",
        "\n",
        "These datasets provide traffic speed values recorded over time across a network of road sensors. Each sensor is a node in a graph; edge weights are based on road distances.\n",
        "\n",
        "---\n",
        "\n",
        "We will now:\n",
        "1. Organize data folders\n",
        "2. Download or manually place data files\n",
        "3. Load and normalize data\n"
      ],
      "metadata": {
        "id": "z2ZLUFzOZkkX"
      }
    },
    {
      "cell_type": "code",
      "source": [
        "import os\n",
        "\n",
        "# Create folders in Colab\n",
        "os.makedirs(\"/content/data/METR-LA\", exist_ok=True)\n",
        "os.makedirs(\"/content/data/PEMS-BAY\", exist_ok=True)\n",
        "\n",
        "print(\"✅ Data directories created.\")\n"
      ],
      "metadata": {
        "colab": {
          "base_uri": "https://localhost:8080/"
        },
        "id": "M05ZkULYa0zq",
        "outputId": "c3e7cbaf-224f-4530-8183-170ad3ddd963"
      },
      "execution_count": 1,
      "outputs": [
        {
          "output_type": "stream",
          "name": "stdout",
          "text": [
            "✅ Data directories created.\n"
          ]
        }
      ]
    },
    {
      "cell_type": "code",
      "source": [
        "# mounth google drive\n",
        "from google.colab import drive\n",
        "drive.mount('/content/drive')\n"
      ],
      "metadata": {
        "colab": {
          "base_uri": "https://localhost:8080/"
        },
        "id": "dL_tc4QcbtZi",
        "outputId": "5ebfdfed-547e-4130-c2ab-c9e1ed7c836f"
      },
      "execution_count": 2,
      "outputs": [
        {
          "output_type": "stream",
          "name": "stdout",
          "text": [
            "Mounted at /content/drive\n"
          ]
        }
      ]
    },
    {
      "cell_type": "code",
      "source": [
        "!ls \"/content/drive/MyDrive/ReX-GNN/data/METR-LA\"\n"
      ],
      "metadata": {
        "colab": {
          "base_uri": "https://localhost:8080/"
        },
        "id": "FQ0smiI0b8J9",
        "outputId": "aa7df189-6a62-496b-c40a-0e7bfc68008f"
      },
      "execution_count": 3,
      "outputs": [
        {
          "output_type": "stream",
          "name": "stdout",
          "text": [
            "adj_mx.pkl\t       graph_sensor_locations.csv  metr-la.h5\t  W_metrla.csv\n",
            "distances_la_2012.csv  metr_ids.txt\t\t   SE_metrla.txt\n"
          ]
        }
      ]
    },
    {
      "cell_type": "code",
      "source": [
        "!ls \"/content/drive/MyDrive/ReX-GNN/data/PEMS-BAY\"\n"
      ],
      "metadata": {
        "colab": {
          "base_uri": "https://localhost:8080/"
        },
        "id": "Vi8jtMBDfTr4",
        "outputId": "ab946d64-c480-4367-9b2d-4181cd42563b"
      },
      "execution_count": 4,
      "outputs": [
        {
          "output_type": "stream",
          "name": "stdout",
          "text": [
            "adj_mx.pkl  pems-bay.h5\n"
          ]
        }
      ]
    },
    {
      "cell_type": "code",
      "source": [
        "# copy the fiel form that drive location to the Data file\n",
        "!mkdir -p /content/data/METR-LA\n",
        "!cp -r \"/content/drive/MyDrive/ReX-GNN/data/METR-LA/.\" /content/data/METR-LA/\n",
        "\n",
        "!mkdir -p /content/data/PEMS-BAY\n",
        "!cp -r \"/content/drive/MyDrive/ReX-GNN/data/PEMS-BAY/.\" /content/data/PEMS-BAY/\n"
      ],
      "metadata": {
        "id": "cn8eMPR1fipv"
      },
      "execution_count": 5,
      "outputs": []
    },
    {
      "cell_type": "code",
      "source": [
        "# load the METR-LA to check\n",
        "!ls -lh /content/data/METR-LA\n"
      ],
      "metadata": {
        "colab": {
          "base_uri": "https://localhost:8080/"
        },
        "id": "5jahJHPUgFg2",
        "outputId": "a3ef5dad-cb2d-4711-e4bb-f258351bff13"
      },
      "execution_count": null,
      "outputs": [
        {
          "output_type": "stream",
          "name": "stdout",
          "text": [
            "total 62M\n",
            "-rw------- 1 root root 665K Jul  7 10:46 adj_mx.pkl\n",
            "-rw------- 1 root root 6.1M Jul  7 10:46 distances_la_2012.csv\n",
            "-rw------- 1 root root 6.2K Jul  7 10:46 graph_sensor_locations.csv\n",
            "-rw------- 1 root root 1.5K Jul  7 10:46 metr_ids.txt\n",
            "-rw------- 1 root root  55M Jul  7 10:46 metr-la.h5\n",
            "-rw------- 1 root root 148K Jul  7 10:46 SE_metrla.txt\n",
            "-rw------- 1 root root 214K Jul  7 10:46 W_metrla.csv\n"
          ]
        }
      ]
    },
    {
      "cell_type": "code",
      "source": [
        "# Run this to see the dataset keys\n",
        "import h5py\n",
        "\n",
        "with h5py.File(\"/content/data/METR-LA/metr-la.h5\", 'r') as f:\n",
        "    print(\"✅ Keys in metr-la.h5:\", list(f.keys()))\n"
      ],
      "metadata": {
        "colab": {
          "base_uri": "https://localhost:8080/"
        },
        "id": "4ErCVL0QgZuP",
        "outputId": "405fba2d-9d64-47f1-be85-ddbd14f8725d"
      },
      "execution_count": 6,
      "outputs": [
        {
          "output_type": "stream",
          "name": "stdout",
          "text": [
            "✅ Keys in metr-la.h5: ['df']\n"
          ]
        }
      ]
    },
    {
      "cell_type": "code",
      "source": [
        "with h5py.File(\"/content/data/METR-LA/metr-la.h5\", 'r') as f:\n",
        "    print(\"✅ Subkeys inside 'df':\", list(f['df'].keys()))\n"
      ],
      "metadata": {
        "colab": {
          "base_uri": "https://localhost:8080/"
        },
        "id": "YaflCgqXhExB",
        "outputId": "28bd35c9-4377-4cc5-805c-8a5069967ed8"
      },
      "execution_count": 7,
      "outputs": [
        {
          "output_type": "stream",
          "name": "stdout",
          "text": [
            "✅ Subkeys inside 'df': ['axis0', 'axis1', 'block0_items', 'block0_values']\n"
          ]
        }
      ]
    },
    {
      "cell_type": "code",
      "source": [
        "# Load + Normalize metr-la.h5 after we got the key\n",
        "import h5py\n",
        "import numpy as np\n",
        "\n",
        "with h5py.File(\"/content/data/METR-LA/metr-la.h5\", 'r') as f:\n",
        "    data = f['df']['block0_values'][:]\n",
        "    print(\"✅ Loaded METR-LA data shape:\", data.shape)\n"
      ],
      "metadata": {
        "colab": {
          "base_uri": "https://localhost:8080/"
        },
        "id": "7ZS3JvvQhNZS",
        "outputId": "48ec15e2-afbb-4892-8a2b-5dfcdc8a6767"
      },
      "execution_count": 8,
      "outputs": [
        {
          "output_type": "stream",
          "name": "stdout",
          "text": [
            "✅ Loaded METR-LA data shape: (34272, 207)\n"
          ]
        }
      ]
    },
    {
      "cell_type": "code",
      "source": [
        "# Apply Z-score Normalization\n",
        "def z_score_normalize(data):\n",
        "    mean = data.mean(axis=0)\n",
        "    std = data.std(axis=0)\n",
        "    normalized = (data - mean) / std\n",
        "    return normalized, mean, std\n",
        "\n",
        "normalized_data, mean, std = z_score_normalize(data)\n",
        "print(\"✅ Normalized shape:\", normalized_data.shape)\n",
        "\n"
      ],
      "metadata": {
        "colab": {
          "base_uri": "https://localhost:8080/"
        },
        "id": "SJ4tqp3ygtKp",
        "outputId": "d3a1a4cd-c49c-4d07-ef43-3562a25d8cff"
      },
      "execution_count": 9,
      "outputs": [
        {
          "output_type": "stream",
          "name": "stdout",
          "text": [
            "✅ Normalized shape: (34272, 207)\n"
          ]
        }
      ]
    },
    {
      "cell_type": "code",
      "source": [
        "# Save for reuse\n",
        "np.savez_compressed(\"/content/data/METR-LA/normalized_metr_la.npz\",\n",
        "                    data=normalized_data, mean=mean, std=std)\n",
        "print(\"💾 Saved as normalized_metr_la.npz\")\n"
      ],
      "metadata": {
        "colab": {
          "base_uri": "https://localhost:8080/"
        },
        "id": "F80jS59bhqE2",
        "outputId": "b793f687-4926-429f-eaf5-f1e12fc4a81a"
      },
      "execution_count": 10,
      "outputs": [
        {
          "output_type": "stream",
          "name": "stdout",
          "text": [
            "💾 Saved as normalized_metr_la.npz\n"
          ]
        }
      ]
    },
    {
      "cell_type": "code",
      "source": [
        "# now for PEMS-BAY but first lets load\n",
        "!ls -lh /content/data/PEMS-BAY\n"
      ],
      "metadata": {
        "colab": {
          "base_uri": "https://localhost:8080/"
        },
        "id": "HW2xniyRh_jK",
        "outputId": "32589ba1-aa11-4179-ee64-80cf84ff6936"
      },
      "execution_count": 11,
      "outputs": [
        {
          "output_type": "stream",
          "name": "stdout",
          "text": [
            "total 132M\n",
            "-rw------- 1 root root 1.7M Jul  7 12:36 adj_mx.pkl\n",
            "-rw------- 1 root root 130M Jul  7 12:36 pems-bay.h5\n"
          ]
        }
      ]
    },
    {
      "cell_type": "code",
      "source": [
        "# now to normalize Run this to explore the structure inside the file:\n",
        "import h5py\n",
        "\n",
        "with h5py.File(\"/content/data/PEMS-BAY/pems-bay.h5\", 'r') as f:\n",
        "    print(\"🔍 Top-level keys:\", list(f.keys()))\n",
        "    if 'df' in f:\n",
        "        print(\"📁 Subkeys inside 'df':\", list(f['df'].keys()))\n"
      ],
      "metadata": {
        "colab": {
          "base_uri": "https://localhost:8080/"
        },
        "id": "OTyjMeWtiR4i",
        "outputId": "d6ba7db5-140b-4e98-a66d-7a4794585fe3"
      },
      "execution_count": 12,
      "outputs": [
        {
          "output_type": "stream",
          "name": "stdout",
          "text": [
            "🔍 Top-level keys: ['speed']\n"
          ]
        }
      ]
    },
    {
      "cell_type": "code",
      "source": [
        "with h5py.File(\"/content/data/PEMS-BAY/pems-bay.h5\", 'r') as f:\n",
        "    print(\"📂 Subkeys inside 'speed':\", list(f['speed'].keys()))\n"
      ],
      "metadata": {
        "colab": {
          "base_uri": "https://localhost:8080/"
        },
        "id": "7tOV7BA5jUva",
        "outputId": "52153687-9857-482b-a43f-20283b558bcd"
      },
      "execution_count": 13,
      "outputs": [
        {
          "output_type": "stream",
          "name": "stdout",
          "text": [
            "📂 Subkeys inside 'speed': ['axis0', 'axis1', 'block0_items', 'block0_values']\n"
          ]
        }
      ]
    },
    {
      "cell_type": "code",
      "source": [
        "import h5py\n",
        "import numpy as np\n",
        "\n",
        "# ✅ Step 1: Load the data\n",
        "with h5py.File(\"/content/data/PEMS-BAY/pems-bay.h5\", 'r') as f:\n",
        "    data = f['speed']['block0_values'][:]\n",
        "    print(\"✅ Loaded shape:\", data.shape)  # Should be [T, 325]\n",
        "\n",
        "# ✅ Step 2: Normalize the data using Z-score\n",
        "def z_score_normalize(data):\n",
        "    mean = data.mean(axis=0)\n",
        "    std = data.std(axis=0)\n",
        "    normalized = (data - mean) / std\n",
        "    return normalized, mean, std\n",
        "\n",
        "normalized_data, mean, std = z_score_normalize(data)\n",
        "print(\"✅ Normalized shape:\", normalized_data.shape)\n",
        "\n",
        "# ✅ Step 3: Save the normalized data\n",
        "np.savez_compressed(\"/content/data/PEMS-BAY/normalized_pems_bay.npz\",\n",
        "                    data=normalized_data, mean=mean, std=std)\n",
        "print(\"💾 Saved: normalized_pems_bay.npz\")\n"
      ],
      "metadata": {
        "colab": {
          "base_uri": "https://localhost:8080/"
        },
        "id": "OnDUMoAPjw7N",
        "outputId": "864df968-dc46-4139-9d2d-b6c1031f2bbe"
      },
      "execution_count": 14,
      "outputs": [
        {
          "output_type": "stream",
          "name": "stdout",
          "text": [
            "✅ Loaded shape: (52116, 325)\n",
            "✅ Normalized shape: (52116, 325)\n",
            "💾 Saved: normalized_pems_bay.npz\n"
          ]
        }
      ]
    },
    {
      "cell_type": "markdown",
      "source": [
        "## Sliding Window Sequence Generation"
      ],
      "metadata": {
        "id": "cy0Q1CqCkylx"
      }
    },
    {
      "cell_type": "code",
      "source": [
        "# sliding window Function sequence generation\n",
        "def create_sliding_windows(data, input_len=12, output_len=3):\n",
        "    \"\"\"\n",
        "    data: [T, N] — normalized traffic speed matrix\n",
        "    Returns:\n",
        "      X: [num_samples, input_len, N]\n",
        "      Y: [num_samples, output_len, N]\n",
        "    \"\"\"\n",
        "    T, N = data.shape\n",
        "    X, Y = [], []\n",
        "\n",
        "    for t in range(T - input_len - output_len + 1):\n",
        "        x = data[t:t+input_len]\n",
        "        y = data[t+input_len:t+input_len+output_len]\n",
        "        X.append(x)\n",
        "        Y.append(y)\n",
        "\n",
        "    X = np.stack(X)  # shape: [B, 12, N]\n",
        "    Y = np.stack(Y)  # shape: [B, 3, N]\n",
        "    return X, Y\n"
      ],
      "metadata": {
        "id": "NZ_z6wLS5ZLV"
      },
      "execution_count": 15,
      "outputs": []
    },
    {
      "cell_type": "code",
      "source": [
        "# Than sliding window for METR-LA\n",
        "metr = np.load(\"/content/data/METR-LA/normalized_metr_la.npz\")['data']\n",
        "X_metr, Y_metr = create_sliding_windows(metr, input_len=12, output_len=3)\n",
        "print(\"✅ METR-LA sliding windows:\", X_metr.shape, Y_metr.shape)\n"
      ],
      "metadata": {
        "colab": {
          "base_uri": "https://localhost:8080/"
        },
        "id": "QyOE9JVC5p22",
        "outputId": "6db84054-3427-4fbe-ffad-a3adfac5a15d"
      },
      "execution_count": 16,
      "outputs": [
        {
          "output_type": "stream",
          "name": "stdout",
          "text": [
            "✅ METR-LA sliding windows: (34258, 12, 207) (34258, 3, 207)\n"
          ]
        }
      ]
    },
    {
      "cell_type": "code",
      "source": [
        "# Than Sliding window for PEMS-BAY\n",
        "pems = np.load(\"/content/data/PEMS-BAY/normalized_pems_bay.npz\")['data']\n",
        "X_pems, Y_pems = create_sliding_windows(pems, input_len=12, output_len=3)\n",
        "print(\"✅ PEMS-BAY sliding windows:\", X_pems.shape, Y_pems.shape)\n"
      ],
      "metadata": {
        "colab": {
          "base_uri": "https://localhost:8080/"
        },
        "id": "nDKJA8Eu5yyG",
        "outputId": "40f87ecd-189f-432b-b93d-27bb81a4a3ef"
      },
      "execution_count": 17,
      "outputs": [
        {
          "output_type": "stream",
          "name": "stdout",
          "text": [
            "✅ PEMS-BAY sliding windows: (52102, 12, 325) (52102, 3, 325)\n"
          ]
        }
      ]
    },
    {
      "cell_type": "code",
      "source": [
        "# Save Windowed Datasets (Optional but Recommended)\n",
        "# Save METR-LA sliding windows:\n",
        "np.savez_compressed(\"/content/data/METR-LA/sliding_metr_la.npz\",\n",
        "                    X=X_metr, Y=Y_metr)\n",
        "print(\"✅ Saved: sliding_metr_la.npz\")\n"
      ],
      "metadata": {
        "colab": {
          "base_uri": "https://localhost:8080/"
        },
        "id": "ACz72yl06nuY",
        "outputId": "3b9df41a-cf08-4a2f-d899-73983c794413"
      },
      "execution_count": 18,
      "outputs": [
        {
          "output_type": "stream",
          "name": "stdout",
          "text": [
            "✅ Saved: sliding_metr_la.npz\n"
          ]
        }
      ]
    },
    {
      "cell_type": "code",
      "source": [
        "# Save PEMS-BAY sliding windows:\n",
        "np.savez_compressed(\"/content/data/PEMS-BAY/sliding_pems_bay.npz\",\n",
        "                    X=X_pems, Y=Y_pems)\n",
        "print(\"✅ Saved: sliding_pems_bay.npz\")\n"
      ],
      "metadata": {
        "colab": {
          "base_uri": "https://localhost:8080/"
        },
        "id": "Z8Qx1pts60TC",
        "outputId": "7d02eeaa-10fc-46bc-9540-27d57de4adc0"
      },
      "execution_count": 19,
      "outputs": [
        {
          "output_type": "stream",
          "name": "stdout",
          "text": [
            "✅ Saved: sliding_pems_bay.npz\n"
          ]
        }
      ]
    },
    {
      "cell_type": "markdown",
      "source": [
        "## ✅ Ready for Stage 2 — Training Begins Here\n",
        "\n",
        "In the next notebook or cell:\n",
        "- Load data from METR-LA\n",
        "- Normalize + window it\n",
        "- Feed into ReX-GNN and train\n"
      ],
      "metadata": {
        "id": "ExZ4pssL7ZON"
      }
    },
    {
      "cell_type": "markdown",
      "source": [
        "# Stage 2 will start here\n",
        "# x_train, y_train = ...\n",
        "# preds = model(x, edge_index)"
      ],
      "metadata": {
        "id": "r-htHJHu7njM"
      }
    }
  ]
}